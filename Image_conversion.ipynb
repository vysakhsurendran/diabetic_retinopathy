{
 "cells": [
  {
   "cell_type": "code",
   "execution_count": null,
   "metadata": {},
   "outputs": [],
   "source": [
    "import cv2 as cv2   #importing opevcv\n",
    "import numpy as np\n",
    "import csv\n",
    "import os\n",
    "\n",
    "path = \"dataset\"\n",
    "ext = [\".jpeg\", \".jpg\", \".png\"]\n",
    "numOfContours=0\n",
    "\n",
    "#getting all filenames in a folder\n",
    "fileNameExtList = []\n",
    "fileNameOnlyList = []\n",
    "for file in os.listdir(path):\n",
    "    if file.endswith(tuple(ext)):\n",
    "        fileNameExtList.append(file)\n",
    "        #print(os.path.join(path, file)) #== 'symptoms/11085_left.jpeg'\n",
    "        fileName, extension = os.path.splitext(file)\n",
    "        fileNameOnlyList.append(fileName)\n",
    "\n",
    "#ROI manual specs\n",
    "x = 65\n",
    "y = 65\n",
    "w = 300\n",
    "h = 190\n",
    "for fileName in fileNameExtList:\n",
    "    img = cv2.imread(os.path.join(path,fileName))    #reading an image\n",
    "    img_rs= cv2.resize(img, (430, 320))     #orginal image resizing\n",
    "    #cv2.imshow('orginal', img_rs)\n",
    "    print(fileName)\n",
    "    \n",
    "    imCrop = img_rs[y:y+h, x:x+w]\n",
    "    #cv2.imshow(\"Image\", imCrop)"
   ]
  }
 ],
 "metadata": {
  "kernelspec": {
   "display_name": "Python 2",
   "language": "python",
   "name": "python2"
  },
  "language_info": {
   "codemirror_mode": {
    "name": "ipython",
    "version": 2
   },
   "file_extension": ".py",
   "mimetype": "text/x-python",
   "name": "python",
   "nbconvert_exporter": "python",
   "pygments_lexer": "ipython2",
   "version": "2.7.12"
  }
 },
 "nbformat": 4,
 "nbformat_minor": 2
}
